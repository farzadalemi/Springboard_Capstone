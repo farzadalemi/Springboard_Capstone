{
 "cells": [
  {
   "cell_type": "code",
   "execution_count": 1,
   "metadata": {},
   "outputs": [],
   "source": [
    "import kaggle\n",
    "import os\n",
    "\n",
    "# setting up path and check the authentication\n",
    "kaggle.api.authenticate()\n",
    "\n",
    "PROJECT_ROOT_DIR = 'D:\\Springboard_local\\capstone\\Springboard_Capstone'\n",
    "DATA_FOLDER = 'data_file'\n",
    "DATA_PATH = os.path.join(PROJECT_ROOT_DIR, DATA_FOLDER)"
   ]
  },
  {
   "cell_type": "code",
   "execution_count": 2,
   "metadata": {},
   "outputs": [
    {
     "name": "stdout",
     "output_type": "stream",
     "text": [
      "downloading data into D:\\Springboard_local\\capstone\\Springboard_Capstone\\data\n"
     ]
    }
   ],
   "source": [
    "# downloading file to the local drive\n",
    "print(f\"downloading data into {DATA_PATH}\")\n",
    "kaggle.api.dataset_download_files('snap/amazon-fine-food-reviews', path = DATA_PATH, unzip=True)\n"
   ]
  }
 ],
 "metadata": {
  "kernelspec": {
   "display_name": "Python 3",
   "language": "python",
   "name": "python3"
  },
  "language_info": {
   "codemirror_mode": {
    "name": "ipython",
    "version": 3
   },
   "file_extension": ".py",
   "mimetype": "text/x-python",
   "name": "python",
   "nbconvert_exporter": "python",
   "pygments_lexer": "ipython3",
   "version": "3.7.3"
  }
 },
 "nbformat": 4,
 "nbformat_minor": 2
}
